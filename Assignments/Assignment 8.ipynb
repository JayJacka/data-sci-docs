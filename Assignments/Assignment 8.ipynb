{
  "cells": [
    {
      "cell_type": "markdown",
      "metadata": {
        "id": "3nkc9Qlht2kP"
      },
      "source": [
        "# Assignment: Extracting Static WebPage\n",
        "\n",
        "Extract information about “วันพระ” for 3 years from:\n",
        "- https://www.myhora.com/ปฏิทิน/วันพระ-พ.ศ.2565.aspx\n",
        "- https://www.myhora.com/ปฏิทิน/วันพระ-พ.ศ.2566.aspx\n",
        "- https://www.myhora.com/ปฏิทิน/วันพระ-พ.ศ.2567.aspx\n"
      ]
    },
    {
      "cell_type": "markdown",
      "metadata": {
        "id": "6qJd6__It2kR"
      },
      "source": [
        "Note that you can use dateparse package to parse Thai date.  First, we will have to install the package, this is for Google Colab users.  Otherwise, installing via command line is recommended (pip or conda)."
      ]
    },
    {
      "cell_type": "code",
      "execution_count": 2,
      "metadata": {
        "colab": {
          "base_uri": "https://localhost:8080/"
        },
        "id": "lh1Hzcmrt2kR",
        "outputId": "3e80a0d0-2426-4892-b9b8-a8c81419c7d9",
        "scrolled": true
      },
      "outputs": [
        {
          "name": "stdout",
          "output_type": "stream",
          "text": [
            "Collecting dateparser\n",
            "  Downloading dateparser-1.2.0-py2.py3-none-any.whl (294 kB)\n",
            "\u001b[2K     \u001b[90m━━━━━━━━━━━━━━━━━━━━━━━━━━━━━━━━━━━━━━━\u001b[0m \u001b[32m295.0/295.0 KB\u001b[0m \u001b[31m2.2 MB/s\u001b[0m eta \u001b[36m0:00:00\u001b[0ma \u001b[36m0:00:01\u001b[0m\n",
            "\u001b[?25hCollecting selenium\n",
            "  Downloading selenium-4.18.1-py3-none-any.whl (10.0 MB)\n",
            "\u001b[2K     \u001b[90m━━━━━━━━━━━━━━━━━━━━━━━━━━━━━━━━━━━━━━━━\u001b[0m \u001b[32m10.0/10.0 MB\u001b[0m \u001b[31m1.2 MB/s\u001b[0m eta \u001b[36m0:00:00\u001b[0m00:01\u001b[0m0:01\u001b[0m0m\n",
            "\u001b[?25hCollecting chromedriver_autoinstall\n",
            "  Downloading chromedriver_autoinstall-1.0.tar.gz (4.2 kB)\n",
            "  Preparing metadata (setup.py) ... \u001b[?25ldone\n",
            "\u001b[?25hRequirement already satisfied: regex!=2019.02.19,!=2021.8.27 in /Users/supawit/.pyenv/versions/3.10.4/lib/python3.10/site-packages (from dateparser) (2023.12.25)\n",
            "Requirement already satisfied: python-dateutil in /Users/supawit/.pyenv/versions/3.10.4/lib/python3.10/site-packages (from dateparser) (2.8.2)\n",
            "Requirement already satisfied: pytz in /Users/supawit/.pyenv/versions/3.10.4/lib/python3.10/site-packages (from dateparser) (2023.4)\n",
            "Collecting tzlocal\n",
            "  Downloading tzlocal-5.2-py3-none-any.whl (17 kB)\n",
            "Requirement already satisfied: typing_extensions>=4.9.0 in /Users/supawit/.pyenv/versions/3.10.4/lib/python3.10/site-packages (from selenium) (4.9.0)\n",
            "Collecting trio~=0.17\n",
            "  Downloading trio-0.24.0-py3-none-any.whl (460 kB)\n",
            "\u001b[2K     \u001b[90m━━━━━━━━━━━━━━━━━━━━━━━━━━━━━━━━━━━━━\u001b[0m \u001b[32m460.2/460.2 KB\u001b[0m \u001b[31m924.4 kB/s\u001b[0m eta \u001b[36m0:00:00\u001b[0ma \u001b[36m0:00:01\u001b[0m\n",
            "\u001b[?25hRequirement already satisfied: urllib3[socks]<3,>=1.26 in /Users/supawit/.pyenv/versions/3.10.4/lib/python3.10/site-packages (from selenium) (2.2.0)\n",
            "Collecting trio-websocket~=0.9\n",
            "  Downloading trio_websocket-0.11.1-py3-none-any.whl (17 kB)\n",
            "Requirement already satisfied: certifi>=2021.10.8 in /Users/supawit/.pyenv/versions/3.10.4/lib/python3.10/site-packages (from selenium) (2024.2.2)\n",
            "Requirement already satisfied: requests in /Users/supawit/.pyenv/versions/3.10.4/lib/python3.10/site-packages (from chromedriver_autoinstall) (2.31.0)\n",
            "Collecting bs4\n",
            "  Downloading bs4-0.0.2-py2.py3-none-any.whl (1.2 kB)\n",
            "Collecting lxml\n",
            "  Downloading lxml-5.1.0-cp310-cp310-macosx_11_0_arm64.whl (4.5 MB)\n",
            "\u001b[2K     \u001b[90m━━━━━━━━━━━━━━━━━━━━━━━━━━━━━━━━━━━━━━━━\u001b[0m \u001b[32m4.5/4.5 MB\u001b[0m \u001b[31m1.6 MB/s\u001b[0m eta \u001b[36m0:00:00\u001b[0m00:01\u001b[0m00:01\u001b[0m\n",
            "\u001b[?25hRequirement already satisfied: exceptiongroup in /Users/supawit/.pyenv/versions/3.10.4/lib/python3.10/site-packages (from trio~=0.17->selenium) (1.2.0)\n",
            "Requirement already satisfied: idna in /Users/supawit/.pyenv/versions/3.10.4/lib/python3.10/site-packages (from trio~=0.17->selenium) (3.6)\n",
            "Collecting sortedcontainers\n",
            "  Downloading sortedcontainers-2.4.0-py2.py3-none-any.whl (29 kB)\n",
            "Requirement already satisfied: attrs>=20.1.0 in /Users/supawit/.pyenv/versions/3.10.4/lib/python3.10/site-packages (from trio~=0.17->selenium) (23.2.0)\n",
            "Collecting outcome\n",
            "  Downloading outcome-1.3.0.post0-py2.py3-none-any.whl (10 kB)\n",
            "Collecting sniffio>=1.3.0\n",
            "  Downloading sniffio-1.3.1-py3-none-any.whl (10 kB)\n",
            "Collecting wsproto>=0.14\n",
            "  Downloading wsproto-1.2.0-py3-none-any.whl (24 kB)\n",
            "Collecting pysocks!=1.5.7,<2.0,>=1.5.6\n",
            "  Downloading PySocks-1.7.1-py3-none-any.whl (16 kB)\n",
            "Collecting beautifulsoup4\n",
            "  Downloading beautifulsoup4-4.12.3-py3-none-any.whl (147 kB)\n",
            "\u001b[2K     \u001b[90m━━━━━━━━━━━━━━━━━━━━━━━━━━━━━━━━━━━━━━━\u001b[0m \u001b[32m147.9/147.9 KB\u001b[0m \u001b[31m2.0 MB/s\u001b[0m eta \u001b[36m0:00:00\u001b[0ma \u001b[36m0:00:01\u001b[0m\n",
            "\u001b[?25hRequirement already satisfied: six>=1.5 in /Users/supawit/.pyenv/versions/3.10.4/lib/python3.10/site-packages (from python-dateutil->dateparser) (1.16.0)\n",
            "Requirement already satisfied: charset-normalizer<4,>=2 in /Users/supawit/.pyenv/versions/3.10.4/lib/python3.10/site-packages (from requests->chromedriver_autoinstall) (3.3.2)\n",
            "Collecting h11<1,>=0.9.0\n",
            "  Downloading h11-0.14.0-py3-none-any.whl (58 kB)\n",
            "\u001b[2K     \u001b[90m━━━━━━━━━━━━━━━━━━━━━━━━━━━━━━━━━━━━━━━━\u001b[0m \u001b[32m58.3/58.3 KB\u001b[0m \u001b[31m1.7 MB/s\u001b[0m eta \u001b[36m0:00:00\u001b[0m\n",
            "\u001b[?25hCollecting soupsieve>1.2\n",
            "  Downloading soupsieve-2.5-py3-none-any.whl (36 kB)\n",
            "Building wheels for collected packages: chromedriver_autoinstall\n",
            "  Building wheel for chromedriver_autoinstall (setup.py) ... \u001b[?25ldone\n",
            "\u001b[?25h  Created wheel for chromedriver_autoinstall: filename=chromedriver_autoinstall-1.0-py3-none-any.whl size=5054 sha256=a281804bcce095da633a103bd32571e905b32ffdd4604f32cab77f59934cdb8b\n",
            "  Stored in directory: /Users/supawit/Library/Caches/pip/wheels/1d/da/50/f585c666a78459fe4a8bcadf1893fbbe2cf14ef848baad9ba7\n",
            "Successfully built chromedriver_autoinstall\n",
            "Installing collected packages: sortedcontainers, tzlocal, soupsieve, sniffio, pysocks, outcome, lxml, h11, wsproto, trio, dateparser, beautifulsoup4, trio-websocket, bs4, selenium, chromedriver_autoinstall\n",
            "Successfully installed beautifulsoup4-4.12.3 bs4-0.0.2 chromedriver_autoinstall-1.0 dateparser-1.2.0 h11-0.14.0 lxml-5.1.0 outcome-1.3.0.post0 pysocks-1.7.1 selenium-4.18.1 sniffio-1.3.1 sortedcontainers-2.4.0 soupsieve-2.5 trio-0.24.0 trio-websocket-0.11.1 tzlocal-5.2 wsproto-1.2.0\n",
            "\u001b[33mWARNING: You are using pip version 22.0.4; however, version 24.0 is available.\n",
            "You should consider upgrading via the '/Users/supawit/.pyenv/versions/3.10.4/bin/python -m pip install --upgrade pip' command.\u001b[0m\u001b[33m\n",
            "\u001b[0mNote: you may need to restart the kernel to use updated packages.\n"
          ]
        }
      ],
      "source": [
        "%pip install dateparser selenium chromedriver_autoinstall"
      ]
    },
    {
      "cell_type": "code",
      "execution_count": 1,
      "metadata": {
        "id": "3ByWc4JRt2kS"
      },
      "outputs": [],
      "source": [
        "import dateparser\n",
        "from selenium import webdriver\n",
        "from selenium.webdriver.common.by import By"
      ]
    },
    {
      "cell_type": "code",
      "execution_count": 2,
      "metadata": {
        "colab": {
          "base_uri": "https://localhost:8080/",
          "height": 686
        },
        "id": "9HkbenxTxCq1",
        "outputId": "b5403899-fa01-4faa-b335-ba874c9eb3dc"
      },
      "outputs": [],
      "source": [
        "driver = webdriver.Chrome()\n",
        "\n",
        "urls = [\"https://www.myhora.com/ปฏิทิน/วันพระ-พ.ศ.2565.aspx\",\n",
        "\"https://www.myhora.com/ปฏิทิน/วันพระ-พ.ศ.2566.aspx\",\n",
        "\"https://www.myhora.com/ปฏิทิน/วันพระ-พ.ศ.2567.aspx\"]\n"
      ]
    },
    {
      "cell_type": "markdown",
      "metadata": {
        "id": "DYEHQSnnt2kS"
      },
      "source": [
        "To convert from thai text date string, we will use the parse method.  Note that the parse method assumes the BC year, not BE.  Thus, we will have to subtract 543 from the year.  In addition, weekday() returns day of week with 0=Monday, ..., 6=Sunday."
      ]
    },
    {
      "cell_type": "code",
      "execution_count": 3,
      "metadata": {
        "id": "8St4QfuZt2kT"
      },
      "outputs": [
        {
          "name": "stdout",
          "output_type": "stream",
          "text": [
            "2563-01-17 00:00:00\n",
            "0\n",
            "2020-01-17 00:00:00\n",
            "4\n"
          ]
        }
      ],
      "source": [
        "dt = dateparser.parse('วันศุกร์ที่ 17 มกราคม 2563')\n",
        "\n",
        "# this will print out weekday == 0 (Monday)\n",
        "print(dt)\n",
        "print(dt.weekday())\n",
        "\n",
        "# this will print out weekday == 4 (Friday)\n",
        "dt = dt.replace(year=dt.year-543)\n",
        "print(dt)\n",
        "print(dt.weekday())"
      ]
    },
    {
      "cell_type": "code",
      "execution_count": 4,
      "metadata": {
        "id": "TAist5hwt2kT"
      },
      "outputs": [
        {
          "name": "stdout",
          "output_type": "stream",
          "text": [
            "2021-09-21 00:00:00\n",
            "1\n"
          ]
        }
      ],
      "source": [
        "dt = dateparser.parse('วันเสาร์ที่ 21 กันยายน 2564')\n",
        "dt = dt.replace(year=dt.year-543)\n",
        "print(dt)\n",
        "print(dt.weekday())"
      ]
    },
    {
      "cell_type": "markdown",
      "metadata": {
        "id": "2ja5nB58t2kT"
      },
      "source": [
        "Count the distribution of number of week days that are “วันพระ” for all three years and answer the following questions:"
      ]
    },
    {
      "cell_type": "markdown",
      "metadata": {
        "id": "BO0nAEVTt2kT"
      },
      "source": [
        "## How many วันพระ in total (of 3 years)?"
      ]
    },
    {
      "cell_type": "code",
      "execution_count": 5,
      "metadata": {
        "id": "eJb13gNet2kT"
      },
      "outputs": [
        {
          "name": "stdout",
          "output_type": "stream",
          "text": [
            "152.0\n"
          ]
        }
      ],
      "source": [
        "count = 0\n",
        "for url in urls:\n",
        "    driver.get(url)\n",
        "    elements = driver.find_elements(By.CLASS_NAME,'bud-day-col')\n",
        "    count += len(elements)/3\n",
        "print(count)\n"
      ]
    },
    {
      "cell_type": "markdown",
      "metadata": {
        "id": "jzBMotIVt2kU"
      },
      "source": [
        "## How many days in total (of 3 years) that วันพระ is Monday?"
      ]
    },
    {
      "cell_type": "code",
      "execution_count": 26,
      "metadata": {
        "id": "toN3Kw-4t2kU"
      },
      "outputs": [
        {
          "name": "stdout",
          "output_type": "stream",
          "text": [
            "21\n"
          ]
        }
      ],
      "source": [
        "count = {}\n",
        "for url in urls:\n",
        "    driver.get(url)\n",
        "    elements = driver.find_elements(By.CLASS_NAME,'bud-day-col')\n",
        "    for e in elements:\n",
        "        if (e.text[:3] == \"วัน\"):\n",
        "            dt = dateparser.parse(e.text)\n",
        "            dt = dt.replace(year=dt.year-543)\n",
        "            if dt.weekday() in count:\n",
        "                count[dt.weekday()] += 1\n",
        "            else:\n",
        "                count[dt.weekday()] = 1\n",
        "print(count[0])"
      ]
    },
    {
      "cell_type": "markdown",
      "metadata": {
        "id": "u3lRB0k3t2kU"
      },
      "source": [
        "## Which day of the week that has the minimum number of วันพระ?"
      ]
    },
    {
      "cell_type": "code",
      "execution_count": 29,
      "metadata": {
        "id": "gX_Az_rkt2kU"
      },
      "outputs": [
        {
          "name": "stdout",
          "output_type": "stream",
          "text": [
            "Tue\n"
          ]
        }
      ],
      "source": [
        "min = 99999\n",
        "min_day = 0\n",
        "for day in count:\n",
        "    if count[day] < min:\n",
        "        min = count[day]\n",
        "        min_day = day\n",
        "days = [\"Mon\", \"Tue\", \"Wed\", \"Thu\", \"Fri\", \"Sat\", \"Sun\"]\n",
        "print(days[min_day])"
      ]
    },
    {
      "cell_type": "markdown",
      "metadata": {
        "id": "BEBnhv_ot2kU"
      },
      "source": [
        "## Which day of the week that has the maximum number of วันพระ?"
      ]
    },
    {
      "cell_type": "code",
      "execution_count": 30,
      "metadata": {
        "id": "DK124fFlt2kU"
      },
      "outputs": [
        {
          "name": "stdout",
          "output_type": "stream",
          "text": [
            "Sun\n"
          ]
        }
      ],
      "source": [
        "max = 0\n",
        "max_day = 0\n",
        "for day in count:\n",
        "    if count[day] > max:\n",
        "        max = count[day]\n",
        "        max_day = day\n",
        "days = [\"Mon\", \"Tue\", \"Wed\", \"Thu\", \"Fri\", \"Sat\", \"Sun\"]\n",
        "print(days[max_day])"
      ]
    },
    {
      "cell_type": "code",
      "execution_count": null,
      "metadata": {
        "id": "wvYRWZDat2kU"
      },
      "outputs": [],
      "source": []
    }
  ],
  "metadata": {
    "colab": {
      "provenance": []
    },
    "kernelspec": {
      "display_name": "Python 3 (ipykernel)",
      "language": "python",
      "name": "python3"
    },
    "language_info": {
      "codemirror_mode": {
        "name": "ipython",
        "version": 3
      },
      "file_extension": ".py",
      "mimetype": "text/x-python",
      "name": "python",
      "nbconvert_exporter": "python",
      "pygments_lexer": "ipython3",
      "version": "3.10.4"
    },
    "toc": {
      "base_numbering": 1,
      "nav_menu": {},
      "number_sections": true,
      "sideBar": true,
      "skip_h1_title": false,
      "title_cell": "Table of Contents",
      "title_sidebar": "Contents",
      "toc_cell": false,
      "toc_position": {},
      "toc_section_display": true,
      "toc_window_display": false
    },
    "varInspector": {
      "cols": {
        "lenName": 16,
        "lenType": 16,
        "lenVar": 40
      },
      "kernels_config": {
        "python": {
          "delete_cmd_postfix": "",
          "delete_cmd_prefix": "del ",
          "library": "var_list.py",
          "varRefreshCmd": "print(var_dic_list())"
        },
        "r": {
          "delete_cmd_postfix": ") ",
          "delete_cmd_prefix": "rm(",
          "library": "var_list.r",
          "varRefreshCmd": "cat(var_dic_list()) "
        }
      },
      "types_to_exclude": [
        "module",
        "function",
        "builtin_function_or_method",
        "instance",
        "_Feature"
      ],
      "window_display": false
    }
  },
  "nbformat": 4,
  "nbformat_minor": 0
}
