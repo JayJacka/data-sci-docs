{
  "cells": [
    {
      "cell_type": "markdown",
      "metadata": {
        "id": "65PxzOuwu6Bm"
      },
      "source": [
        "# Redis Assignment\n",
        "In this assignment, you will access a redis server and user redis commands to find out answers.  The redis server is at *lab.aimet.tech*.  You also have to authenticate as username 'hw' with password 'hw'.  \n",
        "\n",
        "The populated data in the redis database is similar to the example \"simple social network\" in the class.  Answer all questions in mycourseville assignment.\n",
        "\n",
        "Note that this user can only use \"read\" commands e.g. \"get\", \"lrange\", \"llen\", \"scan\", etc."
      ]
    },
    {
      "cell_type": "code",
      "execution_count": null,
      "metadata": {
        "colab": {
          "base_uri": "https://localhost:8080/"
        },
        "id": "G3UsH1JUu6Bo",
        "outputId": "1edee470-de97-4054-c725-d1960b47ddaf"
      },
      "outputs": [
        {
          "output_type": "stream",
          "name": "stdout",
          "text": [
            "Collecting redis\n",
            "  Downloading redis-5.0.2-py3-none-any.whl (251 kB)\n",
            "\u001b[2K     \u001b[90m━━━━━━━━━━━━━━━━━━━━━━━━━━━━━━━━━━━━━━━━\u001b[0m \u001b[32m251.7/251.7 kB\u001b[0m \u001b[31m4.7 MB/s\u001b[0m eta \u001b[36m0:00:00\u001b[0m\n",
            "\u001b[?25hRequirement already satisfied: async-timeout>=4.0.3 in /usr/local/lib/python3.10/dist-packages (from redis) (4.0.3)\n",
            "Installing collected packages: redis\n",
            "Successfully installed redis-5.0.2\n"
          ]
        }
      ],
      "source": [
        "# we will have to install redis in colab\n",
        "import sys\n",
        "IN_COLAB = 'google.colab' in sys.modules\n",
        "if IN_COLAB:\n",
        "  !pip install redis"
      ]
    },
    {
      "cell_type": "code",
      "execution_count": null,
      "metadata": {
        "id": "hUjxWN-Bu6Bp"
      },
      "outputs": [],
      "source": [
        "import redis"
      ]
    },
    {
      "cell_type": "code",
      "execution_count": null,
      "metadata": {
        "colab": {
          "base_uri": "https://localhost:8080/"
        },
        "id": "zd4D6W_-u6Bp",
        "outputId": "41181867-498d-4f94-a0ec-9d612cdeb770"
      },
      "outputs": [
        {
          "output_type": "execute_result",
          "data": {
            "text/plain": [
              "True"
            ]
          },
          "metadata": {},
          "execution_count": 55
        }
      ],
      "source": [
        "rd = redis.Redis(host='lab.aimet.tech', charset=\"utf-8\", decode_responses=True)\n",
        "rd.auth(username='hw', password='hw')"
      ]
    },
    {
      "cell_type": "markdown",
      "metadata": {
        "id": "0i1-tsYlu6Bq"
      },
      "source": [
        "## What is the username of user id \"600\"?"
      ]
    },
    {
      "cell_type": "code",
      "execution_count": null,
      "metadata": {
        "colab": {
          "base_uri": "https://localhost:8080/",
          "height": 35
        },
        "id": "JGbxt8Psu6Bq",
        "outputId": "aec451c6-96c2-443a-d631-524462d7d8b2"
      },
      "outputs": [
        {
          "output_type": "execute_result",
          "data": {
            "text/plain": [
              "'cautiousCrackers9'"
            ],
            "application/vnd.google.colaboratory.intrinsic+json": {
              "type": "string"
            }
          },
          "metadata": {},
          "execution_count": 4
        }
      ],
      "source": [
        "rd.get('user:600:name')"
      ]
    },
    {
      "cell_type": "markdown",
      "metadata": {
        "id": "YPhixBnpu6Bq"
      },
      "source": [
        "## What is the id of username \"excitedPie4\" ?"
      ]
    },
    {
      "cell_type": "code",
      "execution_count": null,
      "metadata": {
        "colab": {
          "base_uri": "https://localhost:8080/",
          "height": 35
        },
        "id": "Lcl1L3Wru6Bq",
        "outputId": "77b5a6b1-a7ac-485d-ec82-2a87803bea0d"
      },
      "outputs": [
        {
          "output_type": "execute_result",
          "data": {
            "text/plain": [
              "'567'"
            ],
            "application/vnd.google.colaboratory.intrinsic+json": {
              "type": "string"
            }
          },
          "metadata": {},
          "execution_count": 16
        }
      ],
      "source": [
        "rd.get('username:excitedPie4')"
      ]
    },
    {
      "cell_type": "markdown",
      "metadata": {
        "id": "Obl3x1cMu6Bq"
      },
      "source": [
        "## How many users that \"excitedPie4\" follows ?"
      ]
    },
    {
      "cell_type": "code",
      "execution_count": null,
      "metadata": {
        "colab": {
          "base_uri": "https://localhost:8080/"
        },
        "id": "ZVChcEL8u6Bq",
        "outputId": "97b31b4f-8e00-4283-87f7-039e016f6ae5"
      },
      "outputs": [
        {
          "output_type": "execute_result",
          "data": {
            "text/plain": [
              "9"
            ]
          },
          "metadata": {},
          "execution_count": 20
        }
      ],
      "source": [
        "rd.scard('user:567:follows')"
      ]
    },
    {
      "cell_type": "markdown",
      "metadata": {
        "id": "fArtrA9du6Bq"
      },
      "source": [
        "## How many users are there in the database?"
      ]
    },
    {
      "cell_type": "code",
      "execution_count": null,
      "metadata": {
        "colab": {
          "base_uri": "https://localhost:8080/"
        },
        "id": "4aHE_DeYu6Br",
        "outputId": "3dfd4fd6-97f0-43b6-84b4-b60c07ba01cd"
      },
      "outputs": [
        {
          "output_type": "execute_result",
          "data": {
            "text/plain": [
              "200"
            ]
          },
          "metadata": {},
          "execution_count": 27
        }
      ],
      "source": [
        "len(rd.keys('username:*'))"
      ]
    },
    {
      "cell_type": "markdown",
      "metadata": {
        "id": "6PHda9Zau6Br"
      },
      "source": [
        "## What is the average number of follows per user?"
      ]
    },
    {
      "cell_type": "code",
      "execution_count": null,
      "metadata": {
        "colab": {
          "base_uri": "https://localhost:8080/"
        },
        "id": "XjmyKgdqu6Br",
        "outputId": "557d2b69-f5b6-4da5-f1ca-e127e86e0d59"
      },
      "outputs": [
        {
          "output_type": "execute_result",
          "data": {
            "text/plain": [
              "8.605"
            ]
          },
          "metadata": {},
          "execution_count": 44
        }
      ],
      "source": [
        "arr = []\n",
        "for e in rd.keys('user:*:follows'):\n",
        "  arr.append(rd.scard(e))\n",
        "\n",
        "sum(arr)/200"
      ]
    },
    {
      "cell_type": "markdown",
      "metadata": {
        "id": "2B8Jr7dFu6Br"
      },
      "source": [
        "## How many users follows between 5-10 users?"
      ]
    },
    {
      "cell_type": "code",
      "execution_count": null,
      "metadata": {
        "colab": {
          "base_uri": "https://localhost:8080/"
        },
        "id": "prnnjpc2u6Br",
        "outputId": "9d9deb37-9e24-4664-e387-1acaa384c968"
      },
      "outputs": [
        {
          "output_type": "stream",
          "name": "stdout",
          "text": [
            "60\n"
          ]
        }
      ],
      "source": [
        "arr = []\n",
        "for e in rd.keys('user:*:follows'):\n",
        "  a = rd.scard(e)\n",
        "  if 5 <= a <= 10:\n",
        "    arr.append(a)\n",
        "\n",
        "print(len(arr))"
      ]
    },
    {
      "cell_type": "markdown",
      "metadata": {
        "id": "40EVlVrIu6Br"
      },
      "source": [
        "## Which account has the most followers?"
      ]
    },
    {
      "cell_type": "code",
      "execution_count": null,
      "metadata": {
        "colab": {
          "base_uri": "https://localhost:8080/"
        },
        "id": "opDggKxwu6Br",
        "outputId": "8734c31e-27cf-4def-fd78-2f80723b228e"
      },
      "outputs": [
        {
          "output_type": "stream",
          "name": "stdout",
          "text": [
            "user:630:followed_by\n"
          ]
        }
      ],
      "source": [
        "mostfollower = 0\n",
        "id = \"\"\n",
        "for e in rd.keys('user:*:followed_by'):\n",
        "  a = rd.scard(e)\n",
        "  if a > mostfollower:\n",
        "    mostfollower = a\n",
        "    id = e\n",
        "\n",
        "print(id)"
      ]
    }
  ],
  "metadata": {
    "kernelspec": {
      "display_name": "Python 3 (ipykernel)",
      "language": "python",
      "name": "python3"
    },
    "language_info": {
      "codemirror_mode": {
        "name": "ipython",
        "version": 3
      },
      "file_extension": ".py",
      "mimetype": "text/x-python",
      "name": "python",
      "nbconvert_exporter": "python",
      "pygments_lexer": "ipython3",
      "version": "3.10.4"
    },
    "toc": {
      "base_numbering": 1,
      "nav_menu": {},
      "number_sections": true,
      "sideBar": true,
      "skip_h1_title": false,
      "title_cell": "Table of Contents",
      "title_sidebar": "Contents",
      "toc_cell": false,
      "toc_position": {},
      "toc_section_display": true,
      "toc_window_display": false
    },
    "varInspector": {
      "cols": {
        "lenName": 16,
        "lenType": 16,
        "lenVar": 40
      },
      "kernels_config": {
        "python": {
          "delete_cmd_postfix": "",
          "delete_cmd_prefix": "del ",
          "library": "var_list.py",
          "varRefreshCmd": "print(var_dic_list())"
        },
        "r": {
          "delete_cmd_postfix": ") ",
          "delete_cmd_prefix": "rm(",
          "library": "var_list.r",
          "varRefreshCmd": "cat(var_dic_list()) "
        }
      },
      "types_to_exclude": [
        "module",
        "function",
        "builtin_function_or_method",
        "instance",
        "_Feature"
      ],
      "window_display": false
    },
    "colab": {
      "provenance": []
    }
  },
  "nbformat": 4,
  "nbformat_minor": 0
}