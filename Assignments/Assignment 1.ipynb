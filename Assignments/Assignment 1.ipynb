{
  "cells": [
    {
      "cell_type": "markdown",
      "metadata": {
        "id": "OIom1X-v0TGc"
      },
      "source": [
        "# Assignment - Basic Pandas\n",
        "<sup>Created by Natawut Nupairoj, Department of Computer Engineering, Chulalongkorn University</sup>\n",
        "\n",
        "Using pandas to explore youtube trending data from GB (GBvideos.csv and GB_category_id.json) and answer the questions."
      ]
    },
    {
      "cell_type": "code",
      "execution_count": 1,
      "metadata": {
        "id": "_ooeQeBn0TGf"
      },
      "outputs": [],
      "source": [
        "import pandas as pd\n",
        "import numpy as np"
      ]
    },
    {
      "cell_type": "markdown",
      "metadata": {
        "id": "RNyAGpWT0TGh"
      },
      "source": [
        "To simplify data retrieval process on Colab, we heck if we are in the Colab environment and download data files from a shared drive and save them in folder \"data\".\n",
        "\n",
        "For those using jupyter notebook on the local computer, you can read data directly assuming you save data in the folder \"data\"."
      ]
    },
    {
      "cell_type": "code",
      "execution_count": 2,
      "metadata": {
        "colab": {
          "base_uri": "https://localhost:8080/"
        },
        "id": "qro_9JWV0TGi",
        "outputId": "46d97a99-84ca-4faa-8fe6-2adf0f9356b4"
      },
      "outputs": [
        {
          "output_type": "stream",
          "name": "stdout",
          "text": [
            "--2024-01-15 06:17:47--  https://github.com/kaopanboonyuen/2110446_DataScience_2021s2/raw/main/datasets/data.tgz\n",
            "Resolving github.com (github.com)... 140.82.112.4\n",
            "Connecting to github.com (github.com)|140.82.112.4|:443... connected.\n",
            "HTTP request sent, awaiting response... 302 Found\n",
            "Location: https://raw.githubusercontent.com/kaopanboonyuen/2110446_DataScience_2021s2/main/datasets/data.tgz [following]\n",
            "--2024-01-15 06:17:48--  https://raw.githubusercontent.com/kaopanboonyuen/2110446_DataScience_2021s2/main/datasets/data.tgz\n",
            "Resolving raw.githubusercontent.com (raw.githubusercontent.com)... 185.199.111.133, 185.199.110.133, 185.199.108.133, ...\n",
            "Connecting to raw.githubusercontent.com (raw.githubusercontent.com)|185.199.111.133|:443... connected.\n",
            "HTTP request sent, awaiting response... 200 OK\n",
            "Length: 45477462 (43M) [application/octet-stream]\n",
            "Saving to: ‘data.tgz’\n",
            "\n",
            "data.tgz            100%[===================>]  43.37M   158MB/s    in 0.3s    \n",
            "\n",
            "2024-01-15 06:17:50 (158 MB/s) - ‘data.tgz’ saved [45477462/45477462]\n",
            "\n",
            "data/\n",
            "data/._GB_category_id.json\n",
            "data/GB_category_id.json\n",
            "data/._US_category_id.json\n",
            "data/US_category_id.json\n",
            "data/._USvideos.csv\n",
            "data/USvideos.csv\n",
            "data/._GBvideos.csv\n",
            "data/GBvideos.csv\n"
          ]
        }
      ],
      "source": [
        "import sys\n",
        "IN_COLAB = 'google.colab' in sys.modules\n",
        "if IN_COLAB:\n",
        "    !wget https://github.com/kaopanboonyuen/2110446_DataScience_2021s2/raw/main/datasets/data.tgz -O data.tgz\n",
        "    !tar -xzvf data.tgz"
      ]
    },
    {
      "cell_type": "markdown",
      "metadata": {
        "id": "rkNi2LHT0TGj"
      },
      "source": [
        "## How many rows are there in the GBvideos.csv after removing duplications?"
      ]
    },
    {
      "cell_type": "code",
      "execution_count": 9,
      "metadata": {
        "id": "PFzYyW7V0TGj",
        "colab": {
          "base_uri": "https://localhost:8080/"
        },
        "outputId": "5bbc7499-0dac-4100-ccab-d79b4b4d7e34"
      },
      "outputs": [
        {
          "output_type": "stream",
          "name": "stdout",
          "text": [
            "38745\n"
          ]
        }
      ],
      "source": [
        "gbv_df = pd.read_csv('data/GBvideos.csv')\n",
        "gbv_df.drop_duplicates(keep='first', inplace=True)\n",
        "print(len(gbv_df))"
      ]
    },
    {
      "cell_type": "markdown",
      "metadata": {
        "id": "mSc2U7HJ0TGk"
      },
      "source": [
        "## How many VDO's that contain at least one record (row) of \"dislikes\" more than \"likes\"?  <font color=red>DO NOT group by the data and make sure that you count only unique title!</font>"
      ]
    },
    {
      "cell_type": "code",
      "execution_count": 11,
      "metadata": {
        "id": "Q0NF1dI40TGk",
        "colab": {
          "base_uri": "https://localhost:8080/"
        },
        "outputId": "6eccb4d7-7445-45ac-f7c1-a9c18a8d91f2"
      },
      "outputs": [
        {
          "output_type": "stream",
          "name": "stdout",
          "text": [
            "56\n"
          ]
        }
      ],
      "source": [
        "print(gbv_df[gbv_df.dislikes > gbv_df.likes].title.nunique())"
      ]
    },
    {
      "cell_type": "markdown",
      "metadata": {
        "id": "oNxh-5CL0TGk"
      },
      "source": [
        "## How many VDO that are trending on 22 Jan 2018 with comments more than 10,000 comments?"
      ]
    },
    {
      "cell_type": "code",
      "execution_count": 12,
      "metadata": {
        "id": "07-y5sNw0TGl",
        "colab": {
          "base_uri": "https://localhost:8080/"
        },
        "outputId": "dc87e027-4cf7-45f1-8456-91eee3744b8b"
      },
      "outputs": [
        {
          "output_type": "stream",
          "name": "stdout",
          "text": [
            "28\n"
          ]
        }
      ],
      "source": [
        "print(len(gbv_df[(gbv_df.trending_date == '18.22.01') & (gbv_df.comment_count > 10000)]))"
      ]
    },
    {
      "cell_type": "markdown",
      "metadata": {
        "id": "jnBQwfD70TGl"
      },
      "source": [
        "## Which date that has the minimum average number of comments per VDO?"
      ]
    },
    {
      "cell_type": "code",
      "execution_count": 13,
      "metadata": {
        "id": "KIDZyavc0TGl",
        "colab": {
          "base_uri": "https://localhost:8080/"
        },
        "outputId": "35a20a1c-af6e-421c-a4a5-685a180885fc"
      },
      "outputs": [
        {
          "output_type": "stream",
          "name": "stdout",
          "text": [
            "trending_date\n",
            "17.15.11    4738.673367\n",
            "Name: comment_count, dtype: float64\n"
          ]
        }
      ],
      "source": [
        "groupbydate_df = gbv_df.groupby('trending_date').comment_count.mean()\n",
        "min_comments = groupbydate_df.min()\n",
        "print(groupbydate_df[groupbydate_df == min_comments])"
      ]
    },
    {
      "cell_type": "markdown",
      "metadata": {
        "id": "wL7iTiic0TGl"
      },
      "source": [
        "## Compare \"Sports\" and \"Comady\", how many days that there are more total daily views of VDO in \"Sports\" category than in \"Comady\" category?"
      ]
    },
    {
      "cell_type": "code",
      "execution_count": 18,
      "metadata": {
        "id": "UIzvYqdA0TGm",
        "colab": {
          "base_uri": "https://localhost:8080/"
        },
        "outputId": "cc015fb1-2e57-478a-da6d-629fc362c098"
      },
      "outputs": [
        {
          "output_type": "stream",
          "name": "stdout",
          "text": [
            "49\n"
          ]
        }
      ],
      "source": [
        "import json\n",
        "with open('data/US_category_id.json') as fd:\n",
        "  categories = json.load(fd)\n",
        "\n",
        "sports = []\n",
        "comedy = []\n",
        "for cat in categories['items']:\n",
        "  if cat['snippet']['title'] == 'Sports':\n",
        "    sports.append(int(cat['id']))\n",
        "  elif cat['snippet']['title'] == 'Comedy':\n",
        "    comedy.append(int(cat['id']))\n",
        "\n",
        "dailyview_df = gbv_df.groupby(['trending_date', 'category_id'])['views'].sum()\n",
        "sport_daily = dailyview_df[dailyview_df.index.get_level_values('category_id').isin(sports)]\n",
        "comedy_daily = dailyview_df[dailyview_df.index.get_level_values('category_id').isin(comedy)]\n",
        "print(len(sport_daily.groupby('trending_date').sum()[sport_daily.groupby('trending_date').sum() > comedy_daily.groupby('trending_date').sum()]))"
      ]
    }
  ],
  "metadata": {
    "colab": {
      "provenance": []
    },
    "kernelspec": {
      "display_name": "Python 3 (ipykernel)",
      "language": "python",
      "name": "python3"
    },
    "language_info": {
      "codemirror_mode": {
        "name": "ipython",
        "version": 3
      },
      "file_extension": ".py",
      "mimetype": "text/x-python",
      "name": "python",
      "nbconvert_exporter": "python",
      "pygments_lexer": "ipython3",
      "version": "3.9.13"
    },
    "toc": {
      "base_numbering": 1,
      "nav_menu": {},
      "number_sections": true,
      "sideBar": true,
      "skip_h1_title": false,
      "title_cell": "Table of Contents",
      "title_sidebar": "Contents",
      "toc_cell": false,
      "toc_position": {},
      "toc_section_display": true,
      "toc_window_display": false
    },
    "varInspector": {
      "cols": {
        "lenName": 16,
        "lenType": 16,
        "lenVar": 40
      },
      "kernels_config": {
        "python": {
          "delete_cmd_postfix": "",
          "delete_cmd_prefix": "del ",
          "library": "var_list.py",
          "varRefreshCmd": "print(var_dic_list())"
        },
        "r": {
          "delete_cmd_postfix": ") ",
          "delete_cmd_prefix": "rm(",
          "library": "var_list.r",
          "varRefreshCmd": "cat(var_dic_list()) "
        }
      },
      "types_to_exclude": [
        "module",
        "function",
        "builtin_function_or_method",
        "instance",
        "_Feature"
      ],
      "window_display": false
    }
  },
  "nbformat": 4,
  "nbformat_minor": 0
}