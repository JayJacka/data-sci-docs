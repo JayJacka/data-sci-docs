{
 "cells": [
  {
   "cell_type": "code",
   "execution_count": 1,
   "id": "121043d1",
   "metadata": {},
   "outputs": [
    {
     "name": "stdout",
     "output_type": "stream",
     "text": [
      "Collecting kafka-python\n",
      "  Downloading kafka_python-2.0.2-py2.py3-none-any.whl (246 kB)\n",
      "\u001b[2K     \u001b[38;2;114;156;31m━━━━━━━━━━━━━━━━━━━━━━━━━━━━━━━━━━━━━━━\u001b[0m \u001b[32m246.5/246.5 KB\u001b[0m \u001b[31m1.3 MB/s\u001b[0m eta \u001b[36m0:00:00\u001b[0m[31m1.5 MB/s\u001b[0m eta \u001b[36m0:00:01\u001b[0m\n",
      "\u001b[?25hCollecting avro\n",
      "  Downloading avro-1.11.3.tar.gz (90 kB)\n",
      "\u001b[2K     \u001b[38;2;114;156;31m━━━━━━━━━━━━━━━━━━━━━━━━━━━━━━━━━━━━━━━━\u001b[0m \u001b[32m90.6/90.6 KB\u001b[0m \u001b[31m1.4 MB/s\u001b[0m eta \u001b[36m0:00:00\u001b[0m[31m2.1 MB/s\u001b[0m eta \u001b[36m0:00:01\u001b[0m\n",
      "\u001b[?25h  Installing build dependencies ... \u001b[?25ldone\n",
      "\u001b[?25h  Getting requirements to build wheel ... \u001b[?25ldone\n",
      "\u001b[?25h  Preparing metadata (pyproject.toml) ... \u001b[?25ldone\n",
      "\u001b[?25hBuilding wheels for collected packages: avro\n",
      "  Building wheel for avro (pyproject.toml) ... \u001b[?25ldone\n",
      "\u001b[?25h  Created wheel for avro: filename=avro-1.11.3-py2.py3-none-any.whl size=123913 sha256=283a925da0ea56db431c434f2a1c7051d0f7be77cb6d097a96f6c88d1db91410\n",
      "  Stored in directory: /Users/supawit/Library/Caches/pip/wheels/1d/f6/41/0e0399396af07060e64d4e32c8bd259b48b98a4a114df31294\n",
      "Successfully built avro\n",
      "Installing collected packages: kafka-python, avro\n",
      "Successfully installed avro-1.11.3 kafka-python-2.0.2\n",
      "\u001b[33mWARNING: You are using pip version 22.0.4; however, version 24.0 is available.\n",
      "You should consider upgrading via the '/Users/supawit/.pyenv/versions/3.10.4/bin/python -m pip install --upgrade pip' command.\u001b[0m\u001b[33m\n",
      "\u001b[0mNote: you may need to restart the kernel to use updated packages.\n"
     ]
    }
   ],
   "source": [
    "%pip install kafka-python avro"
   ]
  },
  {
   "cell_type": "code",
   "execution_count": 3,
   "id": "3d144bf2",
   "metadata": {},
   "outputs": [],
   "source": [
    "# import required libraries\n",
    "from kafka import KafkaConsumer, KafkaProducer\n",
    "import avro.schema\n",
    "import avro.io\n",
    "import io\n",
    "import hashlib, json"
   ]
  },
  {
   "cell_type": "code",
   "execution_count": 4,
   "id": "6234ffde",
   "metadata": {},
   "outputs": [],
   "source": [
    "def serialize(schema, obj):\n",
    "    bytes_writer = io.BytesIO()\n",
    "    encoder = avro.io.BinaryEncoder(bytes_writer)\n",
    "    writer = avro.io.DatumWriter(schema)\n",
    "    writer.write(obj, encoder)\n",
    "    return bytes_writer.getvalue()"
   ]
  },
  {
   "cell_type": "code",
   "execution_count": 5,
   "id": "5e1434bb",
   "metadata": {},
   "outputs": [],
   "source": [
    "def deserialize(schema, raw_bytes):\n",
    "    bytes_reader = io.BytesIO(raw_bytes)\n",
    "    decoder = avro.io.BinaryDecoder(bytes_reader)\n",
    "    reader = avro.io.DatumReader(schema)\n",
    "    return reader.read(decoder)"
   ]
  },
  {
   "cell_type": "code",
   "execution_count": 6,
   "id": "0e92e3e9",
   "metadata": {},
   "outputs": [],
   "source": [
    "schema_file = 'transaction.avsc'\n",
    "txschema = avro.schema.parse(open(schema_file).read())\n",
    "schema_file = 'submit.avsc'\n",
    "submitschema = avro.schema.parse(open(schema_file).read())\n",
    "schema_file = 'result.avsc'\n",
    "resultschema = avro.schema.parse(open(schema_file).read())"
   ]
  },
  {
   "cell_type": "code",
   "execution_count": 7,
   "id": "bcb5dc21",
   "metadata": {},
   "outputs": [],
   "source": [
    "# Connect to kafka broker running in your local host (docker). Change this to your kafka broker if needed\n",
    "kafka_broker = 'lab.aimet.tech:9092'"
   ]
  },
  {
   "cell_type": "code",
   "execution_count": 8,
   "id": "0e05b4b0",
   "metadata": {},
   "outputs": [],
   "source": [
    "producer = KafkaProducer(bootstrap_servers=[kafka_broker])"
   ]
  },
  {
   "cell_type": "code",
   "execution_count": 9,
   "id": "4a2555a3",
   "metadata": {},
   "outputs": [],
   "source": [
    "txconsumer = KafkaConsumer(\n",
    "    'transaction',\n",
    "     bootstrap_servers=[kafka_broker],\n",
    "     enable_auto_commit=True,\n",
    "     value_deserializer=lambda x: deserialize(txschema, x))\n",
    "resultconsumer = KafkaConsumer(\n",
    "    'result',\n",
    "     bootstrap_servers=[kafka_broker],\n",
    "     enable_auto_commit=True,\n",
    "     value_deserializer=lambda x: deserialize(resultschema, x))"
   ]
  },
  {
   "cell_type": "code",
   "execution_count": 10,
   "id": "fe697a88",
   "metadata": {},
   "outputs": [],
   "source": [
    "def gen_signature(txid, payer, payee, amount, token):\n",
    "    o = {'txid': txid, 'payer': payer, 'payee': payee, 'amount': amount, 'token': token}\n",
    "    return hashlib.md5(json.dumps(o, sort_keys=True).encode('utf-8')).hexdigest()"
   ]
  },
  {
   "cell_type": "code",
   "execution_count": 11,
   "id": "b9915bcc",
   "metadata": {},
   "outputs": [],
   "source": [
    "vid = \"V489467\"\n",
    "token = \"5e7a2120980f0e4737cf8906867c5e9f\""
   ]
  },
  {
   "cell_type": "code",
   "execution_count": 18,
   "id": "82f58b67",
   "metadata": {},
   "outputs": [
    {
     "name": "stdout",
     "output_type": "stream",
     "text": [
      "{'txid': 'TX08426', 'payer': 'A01940', 'payee': 'A16263', 'amount': 1045}\n",
      "{'vid': 'V489467', 'txid': 'TX08426', 'signature': '227f2beb34c4aa05de58d60ae1f9bcd8'}\n",
      "{'timestamp': 1711292352, 'vid': 'V489467', 'txid': 'TX08426', 'checksum': '7186bfb6ea58c1e4d9a6e58b7dcdb072', 'code': 200, 'message': 'Confirm'}\n"
     ]
    }
   ],
   "source": [
    "result = None\n",
    "for message in txconsumer:\n",
    "    tx = message.value\n",
    "    print(tx)\n",
    "    submit = {\n",
    "        'vid': vid,\n",
    "        'txid': tx['txid'],\n",
    "        'signature': gen_signature(tx['txid'], tx['payer'], tx['payee'], tx['amount'], token)\n",
    "    }\n",
    "    print(submit)\n",
    "    producer.send('submit', serialize(submitschema, submit))\n",
    "    for message in resultconsumer:\n",
    "        result = message.value\n",
    "        if result['txid'] == tx['txid']:\n",
    "            break\n",
    "    if result:\n",
    "        print(result)\n",
    "        break\n",
    "    else:\n",
    "        print(\"No result for txid\", tx['txid'])"
   ]
  }
 ],
 "metadata": {
  "kernelspec": {
   "display_name": "Python 3 (ipykernel)",
   "language": "python",
   "name": "python3"
  },
  "language_info": {
   "codemirror_mode": {
    "name": "ipython",
    "version": 3
   },
   "file_extension": ".py",
   "mimetype": "text/x-python",
   "name": "python",
   "nbconvert_exporter": "python",
   "pygments_lexer": "ipython3",
   "version": "3.10.4"
  }
 },
 "nbformat": 4,
 "nbformat_minor": 5
}
